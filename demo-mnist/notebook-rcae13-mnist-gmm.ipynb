{
 "cells": [
  {
   "cell_type": "markdown",
   "metadata": {},
   "source": [
    "## Restore and generation¶\n",
    "Construct a Graph as the same scope and names as the saved net;\n",
    "Restore the saved session;\n",
    "Estimate a gmm;\n",
    "generate new samples"
   ]
  },
  {
   "cell_type": "code",
   "execution_count": 1,
   "metadata": {
    "collapsed": true
   },
   "outputs": [],
   "source": [
    "import matplotlib\n",
    "matplotlib.use('Agg')\n",
    "%matplotlib inline\n",
    "import matplotlib.pyplot as plt"
   ]
  },
  {
   "cell_type": "code",
   "execution_count": 2,
   "metadata": {},
   "outputs": [
    {
     "name": "stderr",
     "output_type": "stream",
     "text": [
      "/home/mzx/.local/lib/python3.5/site-packages/h5py/__init__.py:34: FutureWarning: Conversion of the second argument of issubdtype from `float` to `np.floating` is deprecated. In future, it will be treated as `np.float64 == np.dtype(float).type`.\n",
      "  from ._conv import register_converters as _register_converters\n"
     ]
    }
   ],
   "source": [
    "from rcae.utils import utils\n",
    "from rcae.block import Block"
   ]
  },
  {
   "cell_type": "code",
   "execution_count": 3,
   "metadata": {
    "collapsed": true
   },
   "outputs": [],
   "source": [
    "import os\n",
    "import numpy as np\n",
    "import tensorflow as tf\n",
    "import tensorflow.contrib.layers as layers"
   ]
  },
  {
   "cell_type": "markdown",
   "metadata": {},
   "source": [
    "## Initialize tf.placeholders "
   ]
  },
  {
   "cell_type": "code",
   "execution_count": 4,
   "metadata": {
    "collapsed": true
   },
   "outputs": [],
   "source": [
    "x_in = tf.placeholder(tf.float32, shape=[None,28,28,1],name='inputs')\n",
    "x_out = tf.placeholder(tf.float32, shape=[None, 28, 28, 1], name='outputs')\n",
    "code_length = 128\n",
    "code = tf.placeholder(tf.float32, shape=[None,code_length],name='code')\n",
    "\n",
    "is_training = tf.placeholder(tf.bool, name='is_training')"
   ]
  },
  {
   "cell_type": "markdown",
   "metadata": {},
   "source": [
    "## Encoder part"
   ]
  },
  {
   "cell_type": "code",
   "execution_count": 5,
   "metadata": {},
   "outputs": [
    {
     "name": "stdout",
     "output_type": "stream",
     "text": [
      "(?, 14, 14, 16)\n",
      "(?, 7, 7, 32)\n"
     ]
    }
   ],
   "source": [
    "# Reisudal blocks\n",
    "encode_flag = True\n",
    "net = x_in\n",
    "odd_flags = []\n",
    "blocks_en = [\n",
    "    [(16, 8, 2)],\n",
    "    [(32, 16, 2)],\n",
    "]\n",
    "odd_flags = []\n",
    "for i, block in enumerate(blocks_en):\n",
    "    block_params = utils.get_block_en(block, is_training=is_training)\n",
    "    # build the net\n",
    "    block_obj = Block(\n",
    "        inputs = net,\n",
    "        block_params = block_params,\n",
    "        is_training = is_training,\n",
    "        encode_flag=encode_flag,\n",
    "        scope = 'block'+str(i),\n",
    "        summary_flag = True\n",
    "        )\n",
    "    net, odd_flag = block_obj.get_block()\n",
    "    odd_flags.append(odd_flag)"
   ]
  },
  {
   "cell_type": "code",
   "execution_count": 6,
   "metadata": {
    "collapsed": true
   },
   "outputs": [],
   "source": [
    "# get shape of last block\n",
    "encode_last_block_shape = net.get_shape()"
   ]
  },
  {
   "cell_type": "code",
   "execution_count": 7,
   "metadata": {
    "collapsed": true
   },
   "outputs": [],
   "source": [
    "# flatten layer\n",
    "with tf.name_scope('flatten_en'):\n",
    "    net = layers.flatten(net)\n",
    "    tf.summary.histogram('flatten_en',net)\n",
    "flatten_length = int(net.get_shape()[-1])"
   ]
  },
  {
   "cell_type": "markdown",
   "metadata": {},
   "source": [
    "### Coder layer, i.e., the feature vector"
   ]
  },
  {
   "cell_type": "code",
   "execution_count": 8,
   "metadata": {
    "collapsed": true
   },
   "outputs": [],
   "source": [
    "with tf.name_scope('encoder_layer'):\n",
    "    net = layers.fully_connected(\n",
    "        inputs = net,\n",
    "        num_outputs=code_length,\n",
    "        activation_fn=tf.nn.relu,\n",
    "        )\n",
    "    tf.summary.histogram('encode_layer',net)\n",
    "    code = net"
   ]
  },
  {
   "cell_type": "markdown",
   "metadata": {},
   "source": [
    "## Decoder block"
   ]
  },
  {
   "cell_type": "code",
   "execution_count": 9,
   "metadata": {
    "collapsed": true
   },
   "outputs": [],
   "source": [
    "with tf.name_scope('flatten_de'):\n",
    "    net = layers.fully_connected(\n",
    "        inputs = net,\n",
    "        num_outputs=flatten_length,\n",
    "        activation_fn=tf.nn.relu,\n",
    "        )\n",
    "    tf.summary.histogram('flatten_de', net)"
   ]
  },
  {
   "cell_type": "code",
   "execution_count": 10,
   "metadata": {
    "collapsed": true
   },
   "outputs": [],
   "source": [
    "# flatten to convolve\n",
    "with tf.name_scope('flatten_to_conv'):\n",
    "    net = tf.reshape(\n",
    "        net, \n",
    "        [-1, int(encode_last_block_shape[1]), \n",
    "         int(encode_last_block_shape[2]), int(encode_last_block_shape[3])])"
   ]
  },
  {
   "cell_type": "code",
   "execution_count": 11,
   "metadata": {},
   "outputs": [
    {
     "name": "stdout",
     "output_type": "stream",
     "text": [
      "(?, 14, 14, 16)\n",
      "(?, 28, 28, 1)\n"
     ]
    }
   ],
   "source": [
    "# Residual blocks\n",
    "block_list, block_stride = utils.get_block_list(blocks_en, input_depth=1)\n",
    "blocks_de = utils.get_block_de_params(block_list, block_stride)\n",
    "\n",
    "blocks_de_tmp = blocks_de.copy()\n",
    "odd_flags_de = utils.get_odd_flags(odd_flags, blocks=blocks_de_tmp)\n",
    "\n",
    "for i, block in enumerate(blocks_de):\n",
    "    block_params = utils.get_block_de(block, is_training=is_training)\n",
    "    # build the net\n",
    "    block_obj = Block(\n",
    "        inputs = net,\n",
    "        block_params = block_params,\n",
    "        is_training = is_training,\n",
    "        encode_flag=False,\n",
    "        scope = 'block'+str(i),\n",
    "        summary_flag = True,\n",
    "        odd_flags=odd_flags_de[i]\n",
    "        )\n",
    "    net = block_obj.get_block()\n",
    "x_out = net"
   ]
  },
  {
   "cell_type": "markdown",
   "metadata": {},
   "source": [
    "## Loss function, learning rate and training operations"
   ]
  },
  {
   "cell_type": "code",
   "execution_count": 12,
   "metadata": {
    "collapsed": true
   },
   "outputs": [],
   "source": [
    "# loss function\n",
    "with tf.name_scope('loss'):\n",
    "    cost = tf.reduce_mean(tf.square(x_out-x_in))\n",
    "    tf.summary.scalar('loss', cost)"
   ]
  },
  {
   "cell_type": "code",
   "execution_count": 13,
   "metadata": {
    "collapsed": true
   },
   "outputs": [],
   "source": [
    "# learning rate: exponentially decaying\n",
    "with tf.name_scope('learning_rate'):\n",
    "    init_lr = tf.placeholder(tf.float32, name='LR')\n",
    "    global_step = tf.placeholder(tf.float32, name=\"global_step\")\n",
    "    decay_step = tf.placeholder(tf.float32, name=\"decay_step\")\n",
    "    decay_rate = tf.placeholder(tf.float32, name=\"decay_rate\")\n",
    "    learning_rate = tf.train.exponential_decay(\n",
    "        learning_rate = init_lr ,\n",
    "        global_step = global_step,\n",
    "        decay_steps = decay_step,\n",
    "        decay_rate = decay_rate,\n",
    "        staircase=False,\n",
    "        name=None)   "
   ]
  },
  {
   "cell_type": "code",
   "execution_count": 14,
   "metadata": {
    "collapsed": true
   },
   "outputs": [],
   "source": [
    "# Train step \n",
    "# note: should add update_ops to the train graph\n",
    "update_ops = tf.get_collection(tf.GraphKeys.UPDATE_OPS)\n",
    "with tf.control_dependencies(update_ops):\n",
    "    with tf.name_scope('train'):\n",
    "        train_step = tf.train.AdamOptimizer(learning_rate).minimize(cost) "
   ]
  },
  {
   "cell_type": "code",
   "execution_count": 15,
   "metadata": {},
   "outputs": [
    {
     "name": "stdout",
     "output_type": "stream",
     "text": [
      "INFO:tensorflow:Restoring parameters from ./rcae_mnist/model_rcae.ckpt\n"
     ]
    }
   ],
   "source": [
    "# load sess\n",
    "foldname = \"rcae_mnist\"\n",
    "name = 'rcae.pkl'\n",
    "sess, name = utils.load_net(os.path.join(foldname, name))"
   ]
  },
  {
   "cell_type": "markdown",
   "metadata": {},
   "source": [
    "## Load data and get feature"
   ]
  },
  {
   "cell_type": "code",
   "execution_count": 16,
   "metadata": {},
   "outputs": [
    {
     "name": "stdout",
     "output_type": "stream",
     "text": [
      "Extracting MNIST_data/train-images-idx3-ubyte.gz\n",
      "Extracting MNIST_data/train-labels-idx1-ubyte.gz\n",
      "Extracting MNIST_data/t10k-images-idx3-ubyte.gz\n",
      "Extracting MNIST_data/t10k-labels-idx1-ubyte.gz\n"
     ]
    }
   ],
   "source": [
    "# Step1 load MNITST data\n",
    "from tensorflow.examples.tutorials.mnist import input_data\n",
    "mnist = input_data.read_data_sets(\"MNIST_data\", \n",
    "                                  one_hot=False,\n",
    "                                  validation_size=0)"
   ]
  },
  {
   "cell_type": "code",
   "execution_count": 17,
   "metadata": {
    "collapsed": true
   },
   "outputs": [],
   "source": [
    "imgs,labels = mnist.train.images, mnist.train.labels"
   ]
  },
  {
   "cell_type": "code",
   "execution_count": 18,
   "metadata": {},
   "outputs": [],
   "source": [
    "imgs = imgs.reshape(-1, 28, 28, 1)"
   ]
  },
  {
   "cell_type": "code",
   "execution_count": 19,
   "metadata": {},
   "outputs": [],
   "source": [
    "# Get code: batchly\n",
    "idx5 = np.where(labels==5)[0]\n",
    "digit5 = np.zeros((len(idx5), code_length))\n",
    "batchsize = 100\n",
    "numbatch = len(idx5) // batchsize\n",
    "for i in range(numbatch):\n",
    "    digit5[i*batchsize: (i+1)*batchsize] = sess.run(\n",
    "            code, feed_dict={x_in: imgs[idx5[i*batchsize:(i+1)*batchsize]], \n",
    "                             is_training: False}\n",
    "    )"
   ]
  },
  {
   "cell_type": "code",
   "execution_count": 20,
   "metadata": {},
   "outputs": [],
   "source": [
    "gmm5 = utils.getGMM(\n",
    "    data=digit5, n_components=11, covariance_type='full')"
   ]
  },
  {
   "cell_type": "code",
   "execution_count": 21,
   "metadata": {},
   "outputs": [],
   "source": [
    "# test a image\n",
    "n_examples = 10\n",
    "code_sim5 = gmm5.sample(n_samples=n_examples)[0]\n",
    "img_sim5 = sess.run(x_out, \n",
    "                       feed_dict={x_in: np.zeros((n_examples,28,28,1)), \n",
    "                                  code: code_sim5, \n",
    "                                  is_training: False})"
   ]
  },
  {
   "cell_type": "code",
   "execution_count": 22,
   "metadata": {},
   "outputs": [
    {
     "name": "stderr",
     "output_type": "stream",
     "text": [
      "/home/mzx/.local/lib/python3.5/site-packages/matplotlib/figure.py:403: UserWarning: matplotlib is currently using a non-GUI backend, so cannot show the figure\n",
      "  \"matplotlib is currently using a non-GUI backend, \"\n"
     ]
    },
    {
     "data": {
      "image/png": "[encoded data removed]",
      "text/plain": [
       "<matplotlib.figure.Figure at 0x7ff4e6872cc0>"
      ]
     },
     "metadata": {},
     "output_type": "display_data"
    }
   ],
   "source": [
    "fig, axs = plt.subplots(1, n_examples, figsize=(n_examples, 1))\n",
    "for example_i in range(n_examples):\n",
    "    # original\n",
    "    axs[example_i].imshow(np.reshape(img_sim5[example_i, :], (28, 28)), cmap='gray')\n",
    "    axs[example_i].axis('off')\n",
    "\n",
    "fig.show()\n",
    "plt.draw()"
   ]
  }
 ],
 "metadata": {
  "kernelspec": {
   "display_name": "Python 3",
   "language": "python",
   "name": "python3"
  },
  "language_info": {
   "codemirror_mode": {
    "name": "ipython",
    "version": 3
   },
   "file_extension": ".py",
   "mimetype": "text/x-python",
   "name": "python",
   "nbconvert_exporter": "python",
   "pygments_lexer": "ipython3",
   "version": "3.5.2"
  }
 },
 "nbformat": 4,
 "nbformat_minor": 2
}
