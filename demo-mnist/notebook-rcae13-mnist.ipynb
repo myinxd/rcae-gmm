{
 "cells": [
  {
   "cell_type": "markdown",
   "metadata": {
    "collapsed": true
   },
   "source": [
    "## Training a RACE for handwriting digits generation"
   ]
  },
  {
   "cell_type": "code",
   "execution_count": 1,
   "metadata": {
    "collapsed": true
   },
   "outputs": [],
   "source": [
    "import matplotlib\n",
    "matplotlib.use('Agg')\n",
    "%matplotlib inline\n",
    "import matplotlib.pyplot as plt"
   ]
  },
  {
   "cell_type": "code",
   "execution_count": 2,
   "metadata": {},
   "outputs": [
    {
     "name": "stderr",
     "output_type": "stream",
     "text": [
      "/home/mzx/.local/lib/python3.5/site-packages/h5py/__init__.py:34: FutureWarning: Conversion of the second argument of issubdtype from `float` to `np.floating` is deprecated. In future, it will be treated as `np.float64 == np.dtype(float).type`.\n",
      "  from ._conv import register_converters as _register_converters\n"
     ]
    }
   ],
   "source": [
    "from rcae.utils import utils\n",
    "from rcae.block import Block"
   ]
  },
  {
   "cell_type": "code",
   "execution_count": 3,
   "metadata": {
    "collapsed": true
   },
   "outputs": [],
   "source": [
    "import os\n",
    "import numpy as np\n",
    "import tensorflow as tf\n",
    "import tensorflow.contrib.layers as layers"
   ]
  },
  {
   "cell_type": "markdown",
   "metadata": {},
   "source": [
    "## Initialize tf.placeholders "
   ]
  },
  {
   "cell_type": "code",
   "execution_count": 4,
   "metadata": {
    "collapsed": true
   },
   "outputs": [],
   "source": [
    "x_in = tf.placeholder(tf.float32, shape=[None,28,28,1],name='inputs')\n",
    "x_out = tf.placeholder(tf.float32, shape=[None, 28, 28, 1], name='outputs')\n",
    "code_length = 128\n",
    "code = tf.placeholder(tf.float32, shape=[None,code_length],name='code')\n",
    "\n",
    "is_training = tf.placeholder(tf.bool, name='is_training')"
   ]
  },
  {
   "cell_type": "markdown",
   "metadata": {},
   "source": [
    "## Encoder part"
   ]
  },
  {
   "cell_type": "code",
   "execution_count": 5,
   "metadata": {},
   "outputs": [
    {
     "name": "stdout",
     "output_type": "stream",
     "text": [
      "(?, 14, 14, 16)\n",
      "(?, 7, 7, 32)\n"
     ]
    }
   ],
   "source": [
    "# Reisudal blocks\n",
    "encode_flag = True\n",
    "net = x_in\n",
    "odd_flags = []\n",
    "blocks_en = [\n",
    "    [(16, 8, 2)],\n",
    "    [(32, 16, 2)],\n",
    "]\n",
    "odd_flags = []\n",
    "for i, block in enumerate(blocks_en):\n",
    "    block_params = utils.get_block_en(block, is_training=is_training)\n",
    "    # build the net\n",
    "    block_obj = Block(\n",
    "        inputs = net,\n",
    "        block_params = block_params,\n",
    "        is_training = is_training,\n",
    "        encode_flag=encode_flag,\n",
    "        scope = 'block'+str(i),\n",
    "        summary_flag = True\n",
    "        )\n",
    "    net, odd_flag = block_obj.get_block()\n",
    "    odd_flags.append(odd_flag)"
   ]
  },
  {
   "cell_type": "code",
   "execution_count": 6,
   "metadata": {
    "collapsed": true
   },
   "outputs": [],
   "source": [
    "# get shape of last block\n",
    "encode_last_block_shape = net.get_shape()"
   ]
  },
  {
   "cell_type": "code",
   "execution_count": 7,
   "metadata": {
    "collapsed": true
   },
   "outputs": [],
   "source": [
    "# flatten layer\n",
    "with tf.name_scope('flatten_en'):\n",
    "    net = layers.flatten(net)\n",
    "    tf.summary.histogram('flatten_en',net)\n",
    "flatten_length = int(net.get_shape()[-1])"
   ]
  },
  {
   "cell_type": "markdown",
   "metadata": {},
   "source": [
    "### Coder layer, i.e., the feature vector"
   ]
  },
  {
   "cell_type": "code",
   "execution_count": 8,
   "metadata": {
    "collapsed": true
   },
   "outputs": [],
   "source": [
    "with tf.name_scope('encoder_layer'):\n",
    "    net = layers.fully_connected(\n",
    "        inputs = net,\n",
    "        num_outputs=code_length,\n",
    "        activation_fn=tf.nn.relu,\n",
    "        )\n",
    "    tf.summary.histogram('encode_layer',net)\n",
    "    code = net"
   ]
  },
  {
   "cell_type": "markdown",
   "metadata": {},
   "source": [
    "## Decoder block"
   ]
  },
  {
   "cell_type": "code",
   "execution_count": 9,
   "metadata": {
    "collapsed": true
   },
   "outputs": [],
   "source": [
    "with tf.name_scope('flatten_de'):\n",
    "    net = layers.fully_connected(\n",
    "        inputs = net,\n",
    "        num_outputs=flatten_length,\n",
    "        activation_fn=tf.nn.relu,\n",
    "        )\n",
    "    tf.summary.histogram('flatten_de', net)"
   ]
  },
  {
   "cell_type": "code",
   "execution_count": 10,
   "metadata": {
    "collapsed": true
   },
   "outputs": [],
   "source": [
    "# flatten to convolve\n",
    "with tf.name_scope('flatten_to_conv'):\n",
    "    net = tf.reshape(\n",
    "        net, \n",
    "        [-1, int(encode_last_block_shape[1]), \n",
    "         int(encode_last_block_shape[2]), int(encode_last_block_shape[3])])"
   ]
  },
  {
   "cell_type": "code",
   "execution_count": 11,
   "metadata": {},
   "outputs": [
    {
     "name": "stdout",
     "output_type": "stream",
     "text": [
      "(?, 14, 14, 16)\n",
      "(?, 28, 28, 1)\n"
     ]
    }
   ],
   "source": [
    "# Residual blocks\n",
    "block_list, block_stride = utils.get_block_list(blocks_en, input_depth=1)\n",
    "blocks_de = utils.get_block_de_params(block_list, block_stride)\n",
    "\n",
    "blocks_de_tmp = blocks_de.copy()\n",
    "odd_flags_de = utils.get_odd_flags(odd_flags, blocks=blocks_de_tmp)\n",
    "\n",
    "for i, block in enumerate(blocks_de):\n",
    "    block_params = utils.get_block_de(block, is_training=is_training)\n",
    "    # build the net\n",
    "    block_obj = Block(\n",
    "        inputs = net,\n",
    "        block_params = block_params,\n",
    "        is_training = is_training,\n",
    "        encode_flag=False,\n",
    "        scope = 'block'+str(i),\n",
    "        summary_flag = True,\n",
    "        odd_flags=odd_flags_de[i]\n",
    "        )\n",
    "    net = block_obj.get_block()\n",
    "x_out = net"
   ]
  },
  {
   "cell_type": "markdown",
   "metadata": {},
   "source": [
    "## Loss function, learning rate and training operations"
   ]
  },
  {
   "cell_type": "code",
   "execution_count": 12,
   "metadata": {
    "collapsed": true
   },
   "outputs": [],
   "source": [
    "# loss function\n",
    "with tf.name_scope('loss'):\n",
    "    cost = tf.reduce_mean(tf.square(x_out-x_in))\n",
    "    tf.summary.scalar('loss', cost)"
   ]
  },
  {
   "cell_type": "code",
   "execution_count": 13,
   "metadata": {
    "collapsed": true
   },
   "outputs": [],
   "source": [
    "# learning rate: exponentially decaying\n",
    "with tf.name_scope('learning_rate'):\n",
    "    init_lr = tf.placeholder(tf.float32, name='LR')\n",
    "    global_step = tf.placeholder(tf.float32, name=\"global_step\")\n",
    "    decay_step = tf.placeholder(tf.float32, name=\"decay_step\")\n",
    "    decay_rate = tf.placeholder(tf.float32, name=\"decay_rate\")\n",
    "    learning_rate = tf.train.exponential_decay(\n",
    "        learning_rate = init_lr ,\n",
    "        global_step = global_step,\n",
    "        decay_steps = decay_step,\n",
    "        decay_rate = decay_rate,\n",
    "        staircase=False,\n",
    "        name=None)   "
   ]
  },
  {
   "cell_type": "code",
   "execution_count": 14,
   "metadata": {
    "collapsed": true
   },
   "outputs": [],
   "source": [
    "# Train step \n",
    "# note: should add update_ops to the train graph\n",
    "update_ops = tf.get_collection(tf.GraphKeys.UPDATE_OPS)\n",
    "with tf.control_dependencies(update_ops):\n",
    "    with tf.name_scope('train'):\n",
    "        train_step = tf.train.AdamOptimizer(learning_rate).minimize(cost) "
   ]
  },
  {
   "cell_type": "markdown",
   "metadata": {},
   "source": [
    "### Visualize the graph "
   ]
  },
  {
   "cell_type": "code",
   "execution_count": 15,
   "metadata": {},
   "outputs": [],
   "source": [
    "# Merge all the summaries and write to logdir\n",
    "logdir = 'log_mnist'\n",
    "if os.path.exists(logdir):\n",
    "    os.system('rm -r %s' % logdir)\n",
    "os.mkdir(logdir)\n",
    "merged = tf.summary.merge_all()\n",
    "# Initialize the variables\n",
    "sess = tf.InteractiveSession()\n",
    "sess.run(tf.global_variables_initializer())\n",
    "train_writer = tf.summary.FileWriter(logdir + '/train',\n",
    "                                     sess.graph)\n",
    "val_writer = tf.summary.FileWriter(logdir + '/validation',\n",
    "                                   sess.graph)\n"
   ]
  },
  {
   "cell_type": "markdown",
   "metadata": {},
   "source": [
    "## Load data and train the network"
   ]
  },
  {
   "cell_type": "code",
   "execution_count": 16,
   "metadata": {},
   "outputs": [
    {
     "name": "stdout",
     "output_type": "stream",
     "text": [
      "Extracting MNIST_data/train-images-idx3-ubyte.gz\n",
      "Extracting MNIST_data/train-labels-idx1-ubyte.gz\n",
      "Extracting MNIST_data/t10k-images-idx3-ubyte.gz\n",
      "Extracting MNIST_data/t10k-labels-idx1-ubyte.gz\n"
     ]
    }
   ],
   "source": [
    "# Step1 load MNITST data\n",
    "from tensorflow.examples.tutorials.mnist import input_data\n",
    "mnist = input_data.read_data_sets(\"MNIST_data\", \n",
    "                                  one_hot=True,\n",
    "                                  validation_size=2000)"
   ]
  },
  {
   "cell_type": "code",
   "execution_count": 17,
   "metadata": {
    "collapsed": true
   },
   "outputs": [],
   "source": [
    "def feed_dict(train,batchsize=100,drop=0.5, lr_dict=None):\n",
    "    \"\"\"Make a TensorFlow feed_dict: maps data onto Tensor placeholders.\"\"\"\n",
    "    if train:\n",
    "        xs, _ = mnist.train.next_batch(batchsize)\n",
    "        f_dict = {x_in: xs.reshape([-1,28,28,1]), \n",
    "                  is_training: True}\n",
    "        f_dict.update(lr_dict)\n",
    "    else:    \n",
    "        # validation\n",
    "        x_val,_ = mnist.validation.images,mnist.validation.labels\n",
    "        f_dict = {x_in: x_val.reshape([-1,28,28,1]),\n",
    "                  is_training: False}\n",
    "    return f_dict"
   ]
  },
  {
   "cell_type": "code",
   "execution_count": 18,
   "metadata": {},
   "outputs": [
    {
     "name": "stdout",
     "output_type": "stream",
     "text": [
      "[2018-02-07: 11:41:13]: Epochs    Trn_loss    Val_loss\n",
      "[2018-02-07: 11:41:50]: 0    0.01586169    0.00494594\n",
      "[2018-02-07: 11:44:47]: 5    0.00209629    0.00203937\n",
      "[2018-02-07: 11:47:44]: 10    0.00158905    0.00169218\n",
      "[2018-02-07: 11:50:42]: 15    0.00137787    0.00141061\n",
      "[2018-02-07: 11:53:40]: 20    0.00124615    0.00133255\n",
      "[2018-02-07: 11:56:38]: 25    0.00116339    0.00117872\n",
      "[2018-02-07: 11:59:38]: 30    0.00110557    0.00116313\n",
      "[2018-02-07: 12:02:40]: 35    0.00106438    0.00109908\n",
      "[2018-02-07: 12:05:41]: 40    0.00102699    0.00107381\n",
      "[2018-02-07: 12:08:41]: 45    0.00100184    0.00105740\n",
      "[2018-02-07: 12:11:42]: 50    0.00097686    0.00108844\n",
      "[2018-02-07: 12:14:40]: 55    0.00095731    0.00098758\n",
      "[2018-02-07: 12:17:38]: 60    0.00093823    0.00099142\n",
      "[2018-02-07: 12:20:37]: 65    0.00091568    0.00097779\n",
      "[2018-02-07: 12:23:38]: 70    0.00090578    0.00096894\n",
      "[2018-02-07: 12:26:40]: 75    0.00089272    0.00094615\n",
      "[2018-02-07: 12:29:41]: 80    0.00087893    0.00099036\n",
      "[2018-02-07: 12:32:41]: 85    0.00086323    0.00090926\n",
      "[2018-02-07: 12:35:43]: 90    0.00085501    0.00093740\n",
      "[2018-02-07: 12:38:44]: 95    0.00084140    0.00090858\n"
     ]
    }
   ],
   "source": [
    "# Training the model by repeatedly running train_step\n",
    "import time \n",
    "epochs = 100\n",
    "batchsize= 100\n",
    "num_batches = mnist.train.images.shape[0] // batchsize\n",
    "# num_batches = 200\n",
    "\n",
    "lr_init = 0.001\n",
    "d_rate = 0.9\n",
    "\n",
    "x_epoch = np.arange(0,epochs,1)\n",
    "y_loss_trn = np.zeros(x_epoch.shape)\n",
    "y_loss_val = np.zeros(x_epoch.shape)\n",
    "\n",
    "# Init all variables\n",
    "timestamp = time.strftime('%Y-%m-%d: %H:%M:%S', time.localtime(time.time()))\n",
    "print(\"[%s]: Epochs    Trn_loss    Val_loss\" % (timestamp))\n",
    "for i in range(epochs):\n",
    "    lr_dict = {init_lr: lr_init, global_step:i,\n",
    "               decay_step: i, decay_step: batchsize,\n",
    "               decay_rate: d_rate}\n",
    "    loss_trn_all = 0.0\n",
    "    for b in range(num_batches):\n",
    "        train_dict = feed_dict(True,lr_dict=lr_dict)\n",
    "        # train\n",
    "        summary_trn, _, loss_trn = sess.run(\n",
    "            [merged, train_step, cost], \n",
    "            feed_dict=train_dict)\n",
    "        loss_trn_all += loss_trn\n",
    "    \n",
    "    y_loss_trn[i] = loss_trn_all / num_batches\n",
    "    train_writer.add_summary(summary_trn, i)\n",
    "    # validation\n",
    "    val_dict = feed_dict(False)\n",
    "    summary_val, y_loss_val[i] = sess.run(\n",
    "        [merged, cost],feed_dict=val_dict)\n",
    "    val_writer.add_summary(summary_val, i)\n",
    "    if i % 5 == 0:\n",
    "        timestamp = time.strftime('%Y-%m-%d: %H:%M:%S', time.localtime(time.time()))\n",
    "        print('[%s]: %d    %.8f    %.8f' % (timestamp, i, \n",
    "                                            y_loss_trn[i], y_loss_val[i]))"
   ]
  },
  {
   "cell_type": "code",
   "execution_count": 19,
   "metadata": {},
   "outputs": [
    {
     "data": {
      "text/plain": [
       "<matplotlib.text.Text at 0x7ff0d618d710>"
      ]
     },
     "execution_count": 19,
     "metadata": {},
     "output_type": "execute_result"
    },
    {
     "data": {
      "image/png": "[encoded data removed]",
      "text/plain": [
       "<matplotlib.figure.Figure at 0x7ff0d66f3ac8>"
      ]
     },
     "metadata": {},
     "output_type": "display_data"
    }
   ],
   "source": [
    "plt.rcParams[\"figure.figsize\"] = [8.0,6.0]\n",
    "\n",
    "plt.plot(x_epoch, y_loss_trn)\n",
    "plt.plot(x_epoch, y_loss_val)\n",
    "plt.legend(['Training loss', 'Validation loss'])\n",
    "plt.xlabel('Epochs')\n",
    "plt.ylabel('Loss')"
   ]
  },
  {
   "cell_type": "markdown",
   "metadata": {},
   "source": [
    "## Test the network"
   ]
  },
  {
   "cell_type": "code",
   "execution_count": 20,
   "metadata": {
    "collapsed": true
   },
   "outputs": [],
   "source": [
    "# test a image\n",
    "n_examples = 10\n",
    "img, _ = mnist.validation.next_batch(n_examples)\n",
    "img = img.reshape(-1,28,28,1)"
   ]
  },
  {
   "cell_type": "code",
   "execution_count": 21,
   "metadata": {
    "collapsed": true
   },
   "outputs": [],
   "source": [
    "img_est = sess.run(x_out, feed_dict={x_in: img, is_training: False})"
   ]
  },
  {
   "cell_type": "code",
   "execution_count": 22,
   "metadata": {},
   "outputs": [
    {
     "name": "stderr",
     "output_type": "stream",
     "text": [
      "/home/mzx/.local/lib/python3.5/site-packages/matplotlib/figure.py:403: UserWarning: matplotlib is currently using a non-GUI backend, so cannot show the figure\n",
      "  \"matplotlib is currently using a non-GUI backend, \"\n"
     ]
    },
    {
     "data": {
      "image/png": "[encoded data removed]",
      "text/plain": [
       "<matplotlib.figure.Figure at 0x7ff0d4151b70>"
      ]
     },
     "metadata": {},
     "output_type": "display_data"
    }
   ],
   "source": [
    "fig, axs = plt.subplots(2, n_examples, figsize=(n_examples, 2))\n",
    "for example_i in range(n_examples):\n",
    "    # original\n",
    "    axs[0][example_i].imshow(np.reshape(img[example_i, :], (28, 28)), cmap='gray')\n",
    "    axs[0][example_i].axis('off')\n",
    "    # reconstructed\n",
    "    axs[1][example_i].imshow(np.reshape(img_est[example_i, :], (28, 28)), cmap='gray')\n",
    "    axs[1][example_i].axis('off')\n",
    "\n",
    "fig.show()\n",
    "plt.draw()"
   ]
  },
  {
   "cell_type": "markdown",
   "metadata": {},
   "source": [
    "## Save the trained network"
   ]
  },
  {
   "cell_type": "code",
   "execution_count": 26,
   "metadata": {},
   "outputs": [],
   "source": [
    "foldname = \"./rcae_mnist\"\n",
    "name = \"rcae.pkl\"\n",
    "netname = \"model_rcae.ckpt\"\n",
    "namepath = os.path.join(foldname, name)\n",
    "netpath = os.path.join(foldname, netname)\n",
    "savedict = {'x_in': x_in.name,\n",
    "            'x_out': x_out.name,\n",
    "            'code': code.name,\n",
    "            'is_training': is_training.name,\n",
    "            'init_lr': init_lr.name,\n",
    "            'global_step': global_step.name,\n",
    "            'decay_step': decay_step.name,\n",
    "            'decay_rate': decay_rate.name,\n",
    "            'netpath': netpath}\n",
    "if os.path.exists(foldname):\n",
    "    os.system(\"rm -r %s\" % (foldname))\n",
    "os.mkdir(foldname)\n",
    "utils.save_net(sess=sess,\n",
    "               namepath=namepath,\n",
    "               netpath=netpath,\n",
    "               savedict=savedict)"
   ]
  }
 ],
 "metadata": {
  "kernelspec": {
   "display_name": "Python 3",
   "language": "python",
   "name": "python3"
  },
  "language_info": {
   "codemirror_mode": {
    "name": "ipython",
    "version": 3
   },
   "file_extension": ".py",
   "mimetype": "text/x-python",
   "name": "python",
   "nbconvert_exporter": "python",
   "pygments_lexer": "ipython3",
   "version": "3.5.2"
  }
 },
 "nbformat": 4,
 "nbformat_minor": 2
}
